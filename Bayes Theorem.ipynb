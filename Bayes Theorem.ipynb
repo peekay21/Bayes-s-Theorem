{
 "cells": [
  {
   "cell_type": "markdown",
   "metadata": {},
   "source": [
    "### Bayes's Theorem\n",
    "\n",
    "##### Bayes's theorem is the probability of an event, based on prior knowledge of conditions that might be related to the event.\n",
    "\n",
    "               \n",
    "   ###  P(X|Y) =  P(Y|X) P(X) / P(Y)\n",
    "                       \n",
    "\n",
    "            Where, \n",
    "                    p(X|Y) = probability of X given that Y already had occured.\n",
    "                    p(Y|X) = probability of X given that Y already had occured.\n",
    "                    p(X) - probability of X event\n",
    "                    p(Y) - probablity of Y event\n",
    "                    "
   ]
  },
  {
   "cell_type": "code",
   "execution_count": 3,
   "metadata": {},
   "outputs": [],
   "source": [
    "# libraries \n",
    "\n",
    "import pandas as pd\n",
    "import numpy as np\n",
    "import matplotlib.pyplot as plt"
   ]
  },
  {
   "cell_type": "code",
   "execution_count": 5,
   "metadata": {},
   "outputs": [
    {
     "name": "stdout",
     "output_type": "stream",
     "text": [
      "P(A|B) = 14.000%\n"
     ]
    }
   ],
   "source": [
    "#calculate P(A|B) given P(B|A), P(A) and P(B)\n",
    "def bayes_theorem(p_a,p_b, p_b_given_a):\n",
    "    p_a_given_b = (p_b_given_a * p_a) / p_b \n",
    "    return p_a_given_b\n",
    "\n",
    "#P(A)\n",
    "p_a = 0.10\n",
    "#P(B)\n",
    "p_b =0.05\n",
    "# P(B|A)\n",
    "p_b_given_a = 0.07\n",
    "# calculate P(A|B)\n",
    "result = bayes_theorem(p_a, p_b, p_b_given_a)\n",
    "\n",
    "#summarize \n",
    "\n",
    "print ('P(A|B) = %.3f%%' %(result * 100))"
   ]
  }
 ],
 "metadata": {
  "kernelspec": {
   "display_name": "Python [conda env:deeplearning] *",
   "language": "python",
   "name": "conda-env-deeplearning-py"
  },
  "language_info": {
   "codemirror_mode": {
    "name": "ipython",
    "version": 3
   },
   "file_extension": ".py",
   "mimetype": "text/x-python",
   "name": "python",
   "nbconvert_exporter": "python",
   "pygments_lexer": "ipython3",
   "version": "3.7.7"
  }
 },
 "nbformat": 4,
 "nbformat_minor": 4
}
